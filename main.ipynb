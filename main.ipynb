{
 "cells": [
  {
   "cell_type": "code",
   "execution_count": null,
   "id": "e6c92fea",
   "metadata": {},
   "outputs": [],
   "source": [
    "from fastapi import FastAPI, Request\n",
    "import sqlite3\n",
    "from llm.llm_interface import question_to_sql\n",
    "\n",
    "app = FastAPI()\n",
    "\n",
    "@app.post(\"/ask\")\n",
    "async def ask(request: Request):\n",
    "    data = await request.json()\n",
    "    question = data['question']\n",
    "    sql = question_to_sql(question)\n",
    "    conn = sqlite3.connect('ecommerce.db')\n",
    "    result = conn.execute(sql).fetchall()\n",
    "    conn.close()\n",
    "    return {\"question\": question, \"sql\": sql, \"result\": result}"
   ]
  }
 ],
 "metadata": {
  "kernelspec": {
   "display_name": "Python 3 (ipykernel)",
   "language": "python",
   "name": "python3"
  },
  "language_info": {
   "codemirror_mode": {
    "name": "ipython",
    "version": 3
   },
   "file_extension": ".py",
   "mimetype": "text/x-python",
   "name": "python",
   "nbconvert_exporter": "python",
   "pygments_lexer": "ipython3",
   "version": "3.9.7"
  }
 },
 "nbformat": 4,
 "nbformat_minor": 5
}
