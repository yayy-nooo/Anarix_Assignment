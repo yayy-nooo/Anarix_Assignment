{
 "cells": [
  {
   "cell_type": "code",
   "execution_count": null,
   "id": "0caa96ba",
   "metadata": {},
   "outputs": [],
   "source": [
    "def question_to_sql(question: str) -> str:\n",
    "    prompt = f\"\"\"You are an expert data analyst. Convert the following question into a valid SQL query for a SQLite database with tables: eligibility, ad_sales, total_sales. Only output the SQL query, nothing else.\\n\\nQuestion: {question}\\nSQL:\"\"\"\n",
    "    # Call your LLM here (e.g., local Llama, GPT4All, or Gemini API)\n",
    "    # For demo, return a hardcoded SQL for known questions\n",
    "    if \"total sales\" in question.lower():\n",
    "        return \"SELECT SUM(total_sales) FROM total_sales;\"\n",
    "    # ... more rules or call LLM\n",
    "    return \"SELECT 1;\""
   ]
  }
 ],
 "metadata": {
  "kernelspec": {
   "display_name": "Python 3 (ipykernel)",
   "language": "python",
   "name": "python3"
  },
  "language_info": {
   "codemirror_mode": {
    "name": "ipython",
    "version": 3
   },
   "file_extension": ".py",
   "mimetype": "text/x-python",
   "name": "python",
   "nbconvert_exporter": "python",
   "pygments_lexer": "ipython3",
   "version": "3.9.7"
  }
 },
 "nbformat": 4,
 "nbformat_minor": 5
}
